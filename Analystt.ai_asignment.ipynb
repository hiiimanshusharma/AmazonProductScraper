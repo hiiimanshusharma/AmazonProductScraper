{
 "cells": [
  {
   "cell_type": "code",
   "execution_count": 3,
   "id": "0425ec17",
   "metadata": {},
   "outputs": [
    {
     "name": "stdout",
     "output_type": "stream",
     "text": [
      "Requirement already satisfied: selenium in c:\\users\\91830\\appdata\\local\\programs\\python\\python310\\lib\\site-packages (4.11.2)\n",
      "Requirement already satisfied: urllib3[socks]<3,>=1.26 in c:\\users\\91830\\appdata\\local\\programs\\python\\python310\\lib\\site-packages (from selenium) (1.26.15)\n",
      "Requirement already satisfied: trio~=0.17 in c:\\users\\91830\\appdata\\local\\programs\\python\\python310\\lib\\site-packages (from selenium) (0.22.2)\n",
      "Requirement already satisfied: trio-websocket~=0.9 in c:\\users\\91830\\appdata\\local\\programs\\python\\python310\\lib\\site-packages (from selenium) (0.10.3)\n",
      "Requirement already satisfied: certifi>=2021.10.8 in c:\\users\\91830\\appdata\\local\\programs\\python\\python310\\lib\\site-packages (from selenium) (2022.12.7)\n",
      "Requirement already satisfied: attrs>=20.1.0 in c:\\users\\91830\\appdata\\local\\programs\\python\\python310\\lib\\site-packages (from trio~=0.17->selenium) (22.2.0)\n",
      "Requirement already satisfied: sortedcontainers in c:\\users\\91830\\appdata\\local\\programs\\python\\python310\\lib\\site-packages (from trio~=0.17->selenium) (2.4.0)\n",
      "Requirement already satisfied: idna in c:\\users\\91830\\appdata\\local\\programs\\python\\python310\\lib\\site-packages (from trio~=0.17->selenium) (2.10)\n",
      "Requirement already satisfied: outcome in c:\\users\\91830\\appdata\\local\\programs\\python\\python310\\lib\\site-packages (from trio~=0.17->selenium) (1.2.0)\n",
      "Requirement already satisfied: sniffio in c:\\users\\91830\\appdata\\local\\programs\\python\\python310\\lib\\site-packages (from trio~=0.17->selenium) (1.3.0)\n",
      "Requirement already satisfied: cffi>=1.14 in c:\\users\\91830\\appdata\\local\\programs\\python\\python310\\lib\\site-packages (from trio~=0.17->selenium) (1.15.1)\n",
      "Requirement already satisfied: exceptiongroup>=1.0.0rc9 in c:\\users\\91830\\appdata\\local\\programs\\python\\python310\\lib\\site-packages (from trio~=0.17->selenium) (1.1.2)\n",
      "Requirement already satisfied: wsproto>=0.14 in c:\\users\\91830\\appdata\\local\\programs\\python\\python310\\lib\\site-packages (from trio-websocket~=0.9->selenium) (1.2.0)\n",
      "Requirement already satisfied: PySocks!=1.5.7,<2.0,>=1.5.6 in c:\\users\\91830\\appdata\\local\\programs\\python\\python310\\lib\\site-packages (from urllib3[socks]<3,>=1.26->selenium) (1.7.1)\n",
      "Requirement already satisfied: pycparser in c:\\users\\91830\\appdata\\local\\programs\\python\\python310\\lib\\site-packages (from cffi>=1.14->trio~=0.17->selenium) (2.21)\n",
      "Requirement already satisfied: h11<1,>=0.9.0 in c:\\users\\91830\\appdata\\local\\programs\\python\\python310\\lib\\site-packages (from wsproto>=0.14->trio-websocket~=0.9->selenium) (0.14.0)\n"
     ]
    },
    {
     "name": "stderr",
     "output_type": "stream",
     "text": [
      "\n",
      "[notice] A new release of pip is available: 23.1.1 -> 23.2.1\n",
      "[notice] To update, run: python.exe -m pip install --upgrade pip\n"
     ]
    }
   ],
   "source": [
    "!pip install selenium"
   ]
  },
  {
   "cell_type": "code",
   "execution_count": 110,
   "id": "2ffa4702",
   "metadata": {},
   "outputs": [],
   "source": [
    "import csv\n",
    "from bs4 import BeautifulSoup\n",
    "from selenium import webdriver\n",
    "\n",
    "driver = webdriver.Chrome()\n",
    "\n",
    "# def get_url():\n",
    "#     template=  'https://www.amazon.in/s?k=bags'\n",
    "#     search_term = search_term.replace(' ', '+')\n",
    "    \n",
    "#     url = template.format()\n",
    "    \n",
    "#     url += '&page{}'\n",
    "    \n",
    "    \n",
    "#     return url\n",
    "\n",
    "def extract_record(item):\n",
    "    atag = item.h2.a\n",
    "    name = atag.text.strip()\n",
    "    url = 'https:www.amaxon.in' + atag.get('href')\n",
    "    \n",
    "    try:\n",
    "        price_parent = item.find('span', 'a-price')\n",
    "        price=price_parent.find('span', 'a-offscreen').text\n",
    "    except AttributeError:\n",
    "        return\n",
    "        \n",
    "    try:\n",
    "        rating = item.i.text\n",
    "        review_count = item.find('span', {'class': 'a-size-base s-underline-text'}).text\n",
    "    except AttributeError:\n",
    "        rating = ''\n",
    "        review_count = ''\n",
    "    \n",
    "    result = (name, price, rating, review_count, url)\n",
    "    \n",
    "    \n",
    "    return result\n",
    "\n",
    "def main():\n",
    "    driver = webdriver.Chrome()\n",
    "    \n",
    "    records = []\n",
    "    url = 'https://www.amazon.in/s?k=bags&page={}'\n",
    "    \n",
    "    for page in range(1,21):\n",
    "        driver.get(url.format(page))\n",
    "        soup = BeautifulSoup(driver.page_source, 'html.parser')\n",
    "        results = soup.find_all('div', {'data-component-type':'s-search-result'})\n",
    "        \n",
    "        for item in results:\n",
    "            record = extract_record(item)\n",
    "            if record:\n",
    "                records.append(record)\n",
    "            \n",
    "    driver.close()\n",
    "    \n",
    "    with open('results.csv', 'w', newline='', encoding='utf-8') as f:\n",
    "        writer = csv.writer(f)\n",
    "        writer.writerow(['Name', 'Price', 'Rating', 'Review_count', 'Url'])\n",
    "        writer.writerows(records)\n"
   ]
  },
  {
   "cell_type": "code",
   "execution_count": 111,
   "id": "c211eb4e",
   "metadata": {},
   "outputs": [],
   "source": [
    "main()"
   ]
  },
  {
   "cell_type": "markdown",
   "id": "075403a4",
   "metadata": {},
   "source": []
  }
 ],
 "metadata": {
  "kernelspec": {
   "display_name": "Python 3 (ipykernel)",
   "language": "python",
   "name": "python3"
  },
  "language_info": {
   "codemirror_mode": {
    "name": "ipython",
    "version": 3
   },
   "file_extension": ".py",
   "mimetype": "text/x-python",
   "name": "python",
   "nbconvert_exporter": "python",
   "pygments_lexer": "ipython3",
   "version": "3.10.7"
  }
 },
 "nbformat": 4,
 "nbformat_minor": 5
}
